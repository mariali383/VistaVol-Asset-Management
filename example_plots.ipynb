{
 "cells": [
  {
   "cell_type": "code",
   "execution_count": 1,
   "metadata": {},
   "outputs": [
    {
     "name": "stdout",
     "output_type": "stream",
     "text": [
      "Requirement already satisfied: akshare in c:\\users\\byunt\\anaconda3\\lib\\site-packages (1.15.27)\n",
      "Requirement already satisfied: tabulate>=0.8.6 in c:\\users\\byunt\\anaconda3\\lib\\site-packages (from akshare) (0.8.9)\n",
      "Requirement already satisfied: html5lib>=1.0.1 in c:\\users\\byunt\\anaconda3\\lib\\site-packages (from akshare) (1.1)\n",
      "Requirement already satisfied: tqdm>=4.43.0 in c:\\users\\byunt\\anaconda3\\lib\\site-packages (from akshare) (4.64.0)\n",
      "Requirement already satisfied: jsonpath>=0.82 in c:\\users\\byunt\\anaconda3\\lib\\site-packages (from akshare) (0.82.2)\n",
      "Requirement already satisfied: decorator>=4.4.2 in c:\\users\\byunt\\anaconda3\\lib\\site-packages (from akshare) (5.1.1)\n",
      "Requirement already satisfied: mini-racer>=0.12.4 in c:\\users\\byunt\\anaconda3\\lib\\site-packages (from akshare) (0.12.4)\n",
      "Requirement already satisfied: urllib3>=1.25.8 in c:\\users\\byunt\\anaconda3\\lib\\site-packages (from akshare) (1.26.9)\n",
      "Requirement already satisfied: requests>=2.22.0 in c:\\users\\byunt\\anaconda3\\lib\\site-packages (from akshare) (2.27.1)\n",
      "Requirement already satisfied: pandas>=0.25 in c:\\users\\byunt\\anaconda3\\lib\\site-packages (from akshare) (1.5.2)\n",
      "Requirement already satisfied: xlrd>=1.2.0 in c:\\users\\byunt\\anaconda3\\lib\\site-packages (from akshare) (2.0.1)\n",
      "Requirement already satisfied: beautifulsoup4>=4.9.1 in c:\\users\\byunt\\anaconda3\\lib\\site-packages (from akshare) (4.11.1)\n",
      "Requirement already satisfied: openpyxl>=3.0.3 in c:\\users\\byunt\\anaconda3\\lib\\site-packages (from akshare) (3.0.9)\n",
      "Requirement already satisfied: lxml>=4.2.1 in c:\\users\\byunt\\anaconda3\\lib\\site-packages (from akshare) (4.8.0)\n",
      "Requirement already satisfied: soupsieve>1.2 in c:\\users\\byunt\\anaconda3\\lib\\site-packages (from beautifulsoup4>=4.9.1->akshare) (2.3.1)\n",
      "Requirement already satisfied: webencodings in c:\\users\\byunt\\anaconda3\\lib\\site-packages (from html5lib>=1.0.1->akshare) (0.5.1)\n",
      "Requirement already satisfied: six>=1.9 in c:\\users\\byunt\\anaconda3\\lib\\site-packages (from html5lib>=1.0.1->akshare) (1.16.0)\n",
      "Requirement already satisfied: et-xmlfile in c:\\users\\byunt\\anaconda3\\lib\\site-packages (from openpyxl>=3.0.3->akshare) (1.1.0)\n",
      "Requirement already satisfied: python-dateutil>=2.8.1 in c:\\users\\byunt\\anaconda3\\lib\\site-packages (from pandas>=0.25->akshare) (2.8.2)\n",
      "Requirement already satisfied: pytz>=2020.1 in c:\\users\\byunt\\anaconda3\\lib\\site-packages (from pandas>=0.25->akshare) (2021.3)\n",
      "Requirement already satisfied: numpy>=1.20.3 in c:\\users\\byunt\\anaconda3\\lib\\site-packages (from pandas>=0.25->akshare) (1.21.5)\n",
      "Requirement already satisfied: idna<4,>=2.5 in c:\\users\\byunt\\anaconda3\\lib\\site-packages (from requests>=2.22.0->akshare) (3.3)\n",
      "Requirement already satisfied: certifi>=2017.4.17 in c:\\users\\byunt\\anaconda3\\lib\\site-packages (from requests>=2.22.0->akshare) (2021.10.8)\n",
      "Requirement already satisfied: charset-normalizer~=2.0.0 in c:\\users\\byunt\\anaconda3\\lib\\site-packages (from requests>=2.22.0->akshare) (2.0.4)\n",
      "Requirement already satisfied: colorama in c:\\users\\byunt\\anaconda3\\lib\\site-packages (from tqdm>=4.43.0->akshare) (0.4.4)\n",
      "Note: you may need to restart the kernel to use updated packages.\n",
      "Requirement already satisfied: matplotlib in c:\\users\\byunt\\anaconda3\\lib\\site-packages (3.5.1)\n",
      "Requirement already satisfied: numpy>=1.17 in c:\\users\\byunt\\anaconda3\\lib\\site-packages (from matplotlib) (1.21.5)\n",
      "Requirement already satisfied: packaging>=20.0 in c:\\users\\byunt\\anaconda3\\lib\\site-packages (from matplotlib) (21.3)\n",
      "Requirement already satisfied: fonttools>=4.22.0 in c:\\users\\byunt\\anaconda3\\lib\\site-packages (from matplotlib) (4.25.0)\n",
      "Requirement already satisfied: kiwisolver>=1.0.1 in c:\\users\\byunt\\anaconda3\\lib\\site-packages (from matplotlib) (1.3.2)\n",
      "Requirement already satisfied: cycler>=0.10 in c:\\users\\byunt\\anaconda3\\lib\\site-packages (from matplotlib) (0.11.0)\n",
      "Requirement already satisfied: pillow>=6.2.0 in c:\\users\\byunt\\anaconda3\\lib\\site-packages (from matplotlib) (9.0.1)\n",
      "Requirement already satisfied: pyparsing>=2.2.1 in c:\\users\\byunt\\anaconda3\\lib\\site-packages (from matplotlib) (3.0.4)\n",
      "Requirement already satisfied: python-dateutil>=2.7 in c:\\users\\byunt\\anaconda3\\lib\\site-packages (from matplotlib) (2.8.2)\n",
      "Requirement already satisfied: six>=1.5 in c:\\users\\byunt\\anaconda3\\lib\\site-packages (from python-dateutil>=2.7->matplotlib) (1.16.0)\n",
      "Note: you may need to restart the kernel to use updated packages.\n",
      "Requirement already satisfied: numpy in c:\\users\\byunt\\anaconda3\\lib\\site-packages (1.21.5)\n",
      "Note: you may need to restart the kernel to use updated packages.\n",
      "Requirement already satisfied: pandas in c:\\users\\byunt\\anaconda3\\lib\\site-packages (1.5.2)\n",
      "Requirement already satisfied: python-dateutil>=2.8.1 in c:\\users\\byunt\\anaconda3\\lib\\site-packages (from pandas) (2.8.2)\n",
      "Requirement already satisfied: numpy>=1.20.3 in c:\\users\\byunt\\anaconda3\\lib\\site-packages (from pandas) (1.21.5)\n",
      "Requirement already satisfied: pytz>=2020.1 in c:\\users\\byunt\\anaconda3\\lib\\site-packages (from pandas) (2021.3)\n",
      "Requirement already satisfied: six>=1.5 in c:\\users\\byunt\\anaconda3\\lib\\site-packages (from python-dateutil>=2.8.1->pandas) (1.16.0)\n",
      "Note: you may need to restart the kernel to use updated packages.\n"
     ]
    }
   ],
   "source": [
    "%pip install akshare\n",
    "%pip install matplotlib\n",
    "%pip install numpy\n",
    "%pip install pandas"
   ]
  },
  {
   "cell_type": "code",
   "execution_count": null,
   "metadata": {},
   "outputs": [],
   "source": [
    "import akshare as ak\n",
    "import matplotlib.pyplot as plt\n",
    "import numpy as np\n",
    "from matplotlib.backends.backend_pdf import PdfPages\n",
    "import helper\n",
    "import pandas as pd"
   ]
  },
  {
   "cell_type": "code",
   "execution_count": null,
   "metadata": {},
   "outputs": [],
   "source": [
    "# Create pdf for plots\n",
    "pdf = PdfPages('plots1.pdf')"
   ]
  },
  {
   "cell_type": "code",
   "execution_count": null,
   "metadata": {},
   "outputs": [],
   "source": [
    "# Example Code to access data\n",
    "# run for every trade date.... first date is 20191220\n",
    "option_shfe_daily_one, option_shfe_daily_two = ak.option_shfe_daily(symbol=\"黄金期权\", trade_date=\"20191220\")\n",
    "print(\"=======SHFE #1=======\")\n",
    "print(list(option_shfe_daily_one))\n",
    "print(\"=======SHFE #2=======\")\n",
    "print(list(option_shfe_daily_two))"
   ]
  },
  {
   "cell_type": "code",
   "execution_count": null,
   "metadata": {},
   "outputs": [],
   "source": [
    "# Create df for a specified time period\n",
    "combined_one_df = {}\n",
    "combined_two_df = {}\n",
    "\n",
    "# months = [9, 10, 11]\n",
    "# days = [30, 31, 30]\n",
    "months = [11]\n",
    "days = [10]\n",
    "for month, days in zip(months, days):\n",
    "  for i in range(1, days + 1):\n",
    "    month_str = f\"{month:02}\"\n",
    "    day_str = f\"{i:02}\"\n",
    "    trade_date = f\"2024{month_str}{day_str}\" \n",
    "    print(trade_date)\n",
    "    try:\n",
    "      one_df, two_df = ak.option_shfe_daily(symbol=\"黄金期权\", trade_date=trade_date)\n",
    "    except Exception as e:\n",
    "      print(e)\n",
    "      one_df, two_df = None, None\n",
    "    combined_one_df[trade_date] = one_df\n",
    "    combined_two_df[trade_date] = two_df\n",
    "\n",
    "# get rid of non-trading days\n",
    "combined_one_df = {k: v for k, v in combined_one_df.items() if v is not None}\n",
    "combined_two_df = {k: v for k, v in combined_two_df.items() if v is not None}\n",
    "print(combined_two_df)\n",
    "print(combined_one_df)\n"
   ]
  },
  {
   "cell_type": "code",
   "execution_count": null,
   "metadata": {},
   "outputs": [],
   "source": [
    "# Plots - group by contract... too many (need to clean)\n",
    "# date vs Closing Price\n",
    "plot1 = helper.plot_dict_by_contract(combined_one_df, '收盘价', 'date vs 收盘价', '合约代码')\n",
    "# date vs settlement price\n",
    "plot2 = helper.plot_dict_by_contract(combined_one_df, '结算价', 'date vs 结算价', '合约代码')\n",
    "# date vs delta\n",
    "plot3 = helper.plot_dict_by_contract(combined_one_df, '德尔塔', 'date vs 德尔塔', '合约代码')\n",
    "# date vs exercise amount \n",
    "plot4 = helper.plot_dict_by_contract(combined_one_df, '行权量', 'date vs 行权量', '合约代码')\n",
    "# date vs implied volatility\n",
    "plot5 = helper.plot_dict_by_contract(combined_two_df, '隐含波动率', 'date vs 隐含波动率', '合约系列')\n",
    "\n",
    "pdf.savefig(plot1)\n",
    "pdf.savefig(plot2)\n",
    "pdf.savefig(plot3)\n",
    "pdf.savefig(plot4)\n",
    "pdf.savefig(plot5)"
   ]
  },
  {
   "cell_type": "code",
   "execution_count": null,
   "metadata": {},
   "outputs": [],
   "source": [
    "# Obtain all Gold contracts\n",
    "option_commodity_contract_sina_df = ak.option_commodity_contract_sina(symbol=\"黄金期权\")\n",
    "print(\"=======sina commodity contract=======\")\n",
    "print(option_commodity_contract_sina_df)\n",
    "\n",
    "# group by contract code\n",
    "puts = {}\n",
    "calls = {}\n",
    "\n",
    "# Note - not looping through all the contract codes (takes too long)\n",
    "for contract in option_commodity_contract_sina_df['合约']:  \n",
    "  # print(contract)\n",
    "  option_commodity_contract_table_sina_df = helper.tryFunction(ak.option_commodity_contract_table_sina, symbol=\"黄金期权\", contract=contract)\n",
    "  print(f\"=======sina commodity contract table for contract {contract}=======\")\n",
    "  # print(option_commodity_contract_table_sina_df)\n",
    "  # print(f\"=======看跌=======\")\n",
    "  for contract_code in option_commodity_contract_table_sina_df['看跌合约-看跌期权合约']:  \n",
    "    option_commodity_hist_sina_df = helper.tryFunction(ak.option_commodity_hist_sina, symbol=contract_code)\n",
    "    # print(f\"=======sina hist commodity for contract {contract_code}=======\")\n",
    "    # print(option_commodity_hist_sina_df)\n",
    "    if option_commodity_hist_sina_df is not None:\n",
    "      puts[contract_code] = option_commodity_hist_sina_df\n",
    "    break\n",
    "  # print(f\"=======看涨=======\")\n",
    "  for contract_code in option_commodity_contract_table_sina_df['看涨合约-看涨期权合约']:  \n",
    "    option_commodity_hist_sina_df = helper.tryFunction(ak.option_commodity_hist_sina, symbol=contract_code)\n",
    "    # print(f\"=======sina hist commodity for contract {contract_code}=======\")\n",
    "    # print(option_commodity_hist_sina_df)\n",
    "    if option_commodity_hist_sina_df is not None:\n",
    "      calls[contract_code] = option_commodity_hist_sina_df\n",
    "    break\n",
    "  break"
   ]
  },
  {
   "cell_type": "code",
   "execution_count": null,
   "metadata": {},
   "outputs": [],
   "source": [
    "# More plots\n",
    "plot6 = helper.plot_by_contract(puts, 'date', 'close', 'Put: date vs close')\n",
    "plot7 = helper.plot_by_contract(puts, 'date', 'open', 'Put: date vs open')\n",
    "plot8 = helper.plot_by_contract(puts, 'date', 'close', 'Call: date vs close')\n",
    "plot9 = helper.plot_by_contract(puts, 'date', 'open', 'Call: date vs open')\n",
    "\n",
    "pdf.savefig(plot6)\n",
    "pdf.savefig(plot7)\n",
    "pdf.savefig(plot8)\n",
    "pdf.savefig(plot9)\n",
    "\n",
    "pdf.close()"
   ]
  },
  {
   "cell_type": "code",
   "execution_count": null,
   "metadata": {},
   "outputs": [],
   "source": []
  }
 ],
 "metadata": {
  "kernelspec": {
   "display_name": "base",
   "language": "python",
   "name": "python3"
  },
  "language_info": {
   "codemirror_mode": {
    "name": "ipython",
    "version": 3
   },
   "file_extension": ".py",
   "mimetype": "text/x-python",
   "name": "python",
   "nbconvert_exporter": "python",
   "pygments_lexer": "ipython3",
   "version": "3.9.12"
  }
 },
 "nbformat": 4,
 "nbformat_minor": 2
}
